{
  "cells": [
    {
      "cell_type": "code",
      "execution_count": null,
      "metadata": {
        "id": "1okDfBcFZfuM"
      },
      "outputs": [],
      "source": [
        "import math\n",
        "import hashlib\n",
        "def getval(p, q):\n",
        "  n = p * q\n",
        "  z = (p-1) * (q-1)\n",
        "\n",
        "  e = 2\n",
        "  while (True):\n",
        "    if (math.gcd(e,z) == 1):\n",
        "      break\n",
        "    e+=1\n",
        "\n",
        "  d = 2\n",
        "  while (True):\n",
        "    if ( ((e*d) % z) == 1):\n",
        "      break\n",
        "    d += 1\n",
        "\n",
        "  return n,z,e,d\n",
        "def encrypt(plain, e, n):\n",
        "  cipher = \"\"\n",
        "  for i in range (0, len(plain)):\n",
        "    if (plain[i] == \" \"):\n",
        "      cipher += \" \"\n",
        "    else:\n",
        "      temp = ord(plain[i])\n",
        "      temp = temp ** e\n",
        "      temp = temp % n\n",
        "      cipher += chr(temp)\n",
        "  return cipher\n",
        "\n",
        "def decrypt(cipher, d, n):\n",
        "  plain = \"\"\n",
        "  for i in range (0, len(cipher)):\n",
        "    if (cipher[i] == \" \"):\n",
        "      plain += \" \"\n",
        "    else: \n",
        "      temp = ord (cipher[i])\n",
        "      temp = temp ** d\n",
        "      temp = temp % n\n",
        "      plain += chr(temp)\n",
        "  return plain\n",
        "p = int(input(\"Enter prime 1: \"))\n",
        "q = int(input(\"Enter prime 2: \"))\n",
        "n,z,e,d = getval(p, q)\n",
        "message = input(\"Enter message: \")\n",
        "\n",
        "result = hashlib.md5(message.encode())\n",
        "hash = result.hexdigest()\n",
        "print(\"Message Digest: \", hash)\n",
        "digital_signature = encrypt(hash, e, n)\n",
        "print(\"Digital Signature: \", digital_signature)\n",
        "\n",
        "print(\"\\nTo be sent over network: Message\", message, \"; Digital Signature: \", digital_signature)\n",
        "print(\"Message recieved: \", message)\n",
        "print(\"Digital Signature: \", digital_signature)\n",
        "\n",
        "result = hashlib.md5(message.encode())\n",
        "d1 = result.hexdigest()\n",
        "print(\"D1: \", d1)\n",
        "\n",
        "d2 = decrypt(digital_signature, d, n)\n",
        "print(\"D2: \", d2)\n",
        "\n",
        "if (d1 == d2):\n",
        "  print(\"Integrity achieved!!\")\n",
        "else:\n",
        "  print(\"Some alterations done in the network!!\")"
      ]
    }
  ],
  "metadata": {
    "colab": {
      "collapsed_sections": [],
      "name": "DigitalSignature.ipynb",
      "provenance": []
    },
    "kernelspec": {
      "display_name": "Python 3",
      "name": "python3"
    },
    "language_info": {
      "name": "python"
    }
  },
  "nbformat": 4,
  "nbformat_minor": 0
}
