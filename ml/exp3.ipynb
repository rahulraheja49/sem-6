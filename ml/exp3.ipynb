{
 "cells": [
  {
   "cell_type": "code",
   "execution_count": 67,
   "metadata": {},
   "outputs": [],
   "source": [
    "from sklearn.datasets import load_iris\n",
    "from sklearn.model_selection import train_test_split\n",
    "import numpy as np\n",
    "import pandas as pd\n",
    "iris = load_iris()"
   ]
  },
  {
   "cell_type": "code",
   "execution_count": 76,
   "metadata": {},
   "outputs": [
    {
     "name": "stdout",
     "output_type": "stream",
     "text": [
      "   sepal length (cm)  sepal width (cm)  petal length (cm)  petal width (cm)\n",
      "0                5.1               3.5                1.4               0.2\n",
      "1                4.9               3.0                1.4               0.2\n",
      "2                4.7               3.2                1.3               0.2\n",
      "3                4.6               3.1                1.5               0.2\n",
      "4                5.0               3.6                1.4               0.2 0    0.0\n",
      "1    0.0\n",
      "2    0.0\n",
      "3    0.0\n",
      "4    0.0\n",
      "Name: target, dtype: float64\n"
     ]
    }
   ],
   "source": [
    "data = pd.DataFrame(data= np.c_[iris['data'], iris['target']], columns= iris['feature_names'] + ['target'])\n",
    "X_train, y_train = data.iloc[:-1, :-1], data.iloc[:-1, -1]\n",
    "X_test, y_test = data.iloc[-1, :-1], data.iloc[-1, -1]\n",
    "print(X_train.head(), y_train.head())"
   ]
  },
  {
   "cell_type": "code",
   "execution_count": 77,
   "metadata": {},
   "outputs": [],
   "source": [
    "point = X_test\n",
    "dist_cols = {}\n",
    "for ind, i in enumerate(X_train):\n",
    "    dist_cols[i] = []\n",
    "\n",
    "for ind, i in enumerate(X_train):\n",
    "    for j in X_train[i]:\n",
    "        dist_cols[i].append((point[ind]-j)**2)"
   ]
  },
  {
   "cell_type": "code",
   "execution_count": 78,
   "metadata": {},
   "outputs": [],
   "source": [
    "rows, _ = X_train.shape\n",
    "sums = []\n",
    "for i in range(rows):\n",
    "    sum_row = 0\n",
    "    for j in dist_cols:\n",
    "        sum_row += dist_cols[j][i]\n",
    "    sums.append(sum_row)"
   ]
  },
  {
   "cell_type": "code",
   "execution_count": 79,
   "metadata": {},
   "outputs": [],
   "source": [
    "len(sums)\n",
    "sc = sums.copy()"
   ]
  },
  {
   "cell_type": "code",
   "execution_count": 80,
   "metadata": {},
   "outputs": [],
   "source": [
    "ks = 100"
   ]
  },
  {
   "cell_type": "code",
   "execution_count": 81,
   "metadata": {},
   "outputs": [
    {
     "name": "stdout",
     "output_type": "stream",
     "text": [
      "{1: {2.0: 1}, 2: {2.0: 2}, 3: {2.0: 3}, 4: {2.0: 4}, 5: {2.0: 4, 1.0: 1}, 6: {2.0: 4, 1.0: 2}, 7: {2.0: 5, 1.0: 2}, 8: {2.0: 6, 1.0: 2}, 9: {2.0: 7, 1.0: 2}, 10: {2.0: 8, 1.0: 2}, 11: {2.0: 9, 1.0: 2}, 12: {2.0: 9, 1.0: 3}, 13: {2.0: 10, 1.0: 3}, 14: {2.0: 11, 1.0: 3}, 15: {2.0: 12, 1.0: 3}, 16: {2.0: 13, 1.0: 3}, 17: {2.0: 14, 1.0: 3}, 18: {2.0: 15, 1.0: 3}, 19: {2.0: 16, 1.0: 3}, 20: {2.0: 16, 1.0: 4}, 21: {2.0: 16, 1.0: 5}, 22: {2.0: 16, 1.0: 6}, 23: {2.0: 17, 1.0: 6}, 24: {2.0: 17, 1.0: 7}, 25: {2.0: 17, 1.0: 8}, 26: {2.0: 17, 1.0: 9}, 27: {2.0: 18, 1.0: 9}, 28: {2.0: 19, 1.0: 9}, 29: {2.0: 19, 1.0: 10}, 30: {2.0: 20, 1.0: 10}, 31: {2.0: 21, 1.0: 10}, 32: {2.0: 21, 1.0: 11}, 33: {2.0: 21, 1.0: 12}, 34: {2.0: 21, 1.0: 13}, 35: {2.0: 22, 1.0: 13}, 36: {2.0: 22, 1.0: 14}, 37: {2.0: 22, 1.0: 15}, 38: {2.0: 23, 1.0: 15}, 39: {2.0: 23, 1.0: 16}, 40: {2.0: 23, 1.0: 17}, 41: {2.0: 24, 1.0: 17}, 42: {2.0: 25, 1.0: 17}, 43: {2.0: 25, 1.0: 18}, 44: {2.0: 25, 1.0: 19}, 45: {2.0: 26, 1.0: 19}, 46: {2.0: 27, 1.0: 19}, 47: {2.0: 27, 1.0: 20}, 48: {2.0: 27, 1.0: 21}, 49: {2.0: 27, 1.0: 22}, 50: {2.0: 27, 1.0: 23}, 51: {2.0: 27, 1.0: 24}, 52: {2.0: 27, 1.0: 25}, 53: {2.0: 27, 1.0: 26}, 54: {2.0: 28, 1.0: 26}, 55: {2.0: 29, 1.0: 26}, 56: {2.0: 29, 1.0: 27}, 57: {2.0: 29, 1.0: 28}, 58: {2.0: 30, 1.0: 28}, 59: {2.0: 31, 1.0: 28}, 60: {2.0: 31, 1.0: 29}, 61: {2.0: 31, 1.0: 30}, 62: {2.0: 31, 1.0: 31}, 63: {2.0: 32, 1.0: 31}, 64: {2.0: 32, 1.0: 32}, 65: {2.0: 32, 1.0: 33}, 66: {2.0: 33, 1.0: 33}, 67: {2.0: 33, 1.0: 34}, 68: {2.0: 34, 1.0: 34}, 69: {2.0: 35, 1.0: 34}, 70: {2.0: 36, 1.0: 34}, 71: {2.0: 36, 1.0: 35}, 72: {2.0: 37, 1.0: 35}, 73: {2.0: 37, 1.0: 36}, 74: {2.0: 37, 1.0: 37}, 75: {2.0: 37, 1.0: 38}, 76: {2.0: 37, 1.0: 39}, 77: {2.0: 38, 1.0: 39}, 78: {2.0: 38, 1.0: 40}, 79: {2.0: 39, 1.0: 40}, 80: {2.0: 39, 1.0: 41}, 81: {2.0: 39, 1.0: 42}, 82: {2.0: 40, 1.0: 42}, 83: {2.0: 40, 1.0: 43}, 84: {2.0: 40, 1.0: 44}, 85: {2.0: 40, 1.0: 45}, 86: {2.0: 41, 1.0: 45}, 87: {2.0: 41, 1.0: 46}, 88: {2.0: 42, 1.0: 46}, 89: {2.0: 43, 1.0: 46}, 90: {2.0: 44, 1.0: 46}, 91: {2.0: 44, 1.0: 47}, 92: {2.0: 44, 1.0: 48}, 93: {2.0: 45, 1.0: 48}, 94: {2.0: 45, 1.0: 49}, 95: {2.0: 45, 1.0: 50}, 96: {2.0: 46, 1.0: 50}, 97: {2.0: 47, 1.0: 50}, 98: {2.0: 48, 1.0: 50}, 99: {2.0: 49, 1.0: 50}}\n"
     ]
    }
   ],
   "source": [
    "res = {}\n",
    "for k in range(1, ks):\n",
    "    sums = sc.copy()\n",
    "    ycp = y_train.copy().tolist()\n",
    "    ys = {}\n",
    "    for i in range(k):\n",
    "        ind = sums.index(min(sums))\n",
    "        sums.pop(ind)\n",
    "        y_pred = ycp.pop(ind)\n",
    "        if y_pred in ys:\n",
    "            ys[y_pred] += 1\n",
    "        else:\n",
    "            ys[y_pred] = 1\n",
    "    res[k] = ys\n",
    "print(res)"
   ]
  },
  {
   "cell_type": "code",
   "execution_count": 82,
   "metadata": {},
   "outputs": [
    {
     "name": "stdout",
     "output_type": "stream",
     "text": [
      "[2.0, 2.0, 2.0, 2.0, 2.0, 2.0, 2.0, 2.0, 2.0, 2.0, 2.0, 2.0, 2.0, 2.0, 2.0, 2.0, 2.0, 2.0, 2.0, 2.0, 2.0, 2.0, 2.0, 2.0, 2.0, 2.0, 2.0, 2.0, 2.0, 2.0, 2.0, 2.0, 2.0, 2.0, 2.0, 2.0, 2.0, 2.0, 2.0, 2.0, 2.0, 2.0, 2.0, 2.0, 2.0, 2.0, 2.0, 2.0, 2.0, 2.0, 2.0, 2.0, 2.0, 2.0, 2.0, 2.0, 2.0, 2.0, 2.0, 2.0, 2.0, 2.0, 2.0, 2.0, 1.0, 2.0, 1.0, 2.0, 2.0, 2.0, 2.0, 2.0, 2.0, 2.0, 1.0, 1.0, 1.0, 1.0, 1.0, 1.0, 1.0, 1.0, 1.0, 1.0, 1.0, 1.0, 1.0, 1.0, 1.0, 1.0, 1.0, 1.0, 1.0, 1.0, 1.0, 1.0, 1.0, 1.0, 1.0]\n"
     ]
    }
   ],
   "source": [
    "predicted = []\n",
    "for i in res:\n",
    "    predicted.append(max(res[i], key=lambda x: res[i][x]))\n",
    "print(predicted)"
   ]
  },
  {
   "cell_type": "code",
   "execution_count": 83,
   "metadata": {},
   "outputs": [
    {
     "name": "stdout",
     "output_type": "stream",
     "text": [
      "2.0\n"
     ]
    }
   ],
   "source": [
    "print(y_test)"
   ]
  },
  {
   "cell_type": "code",
   "execution_count": null,
   "metadata": {},
   "outputs": [],
   "source": [
    "for i in predicted:\n",
    "    "
   ]
  }
 ],
 "metadata": {
  "interpreter": {
   "hash": "26c45dfba61ca19efd8a4de123ed543751f1bc2d856aeb726a9a5f8d70138a74"
  },
  "kernelspec": {
   "display_name": "Python 3.10.4 64-bit",
   "language": "python",
   "name": "python3"
  },
  "language_info": {
   "codemirror_mode": {
    "name": "ipython",
    "version": 3
   },
   "file_extension": ".py",
   "mimetype": "text/x-python",
   "name": "python",
   "nbconvert_exporter": "python",
   "pygments_lexer": "ipython3",
   "version": "3.10.4"
  },
  "orig_nbformat": 4
 },
 "nbformat": 4,
 "nbformat_minor": 2
}
