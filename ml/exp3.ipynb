{
 "cells": [
  {
   "cell_type": "code",
   "execution_count": 1,
   "metadata": {},
   "outputs": [
    {
     "name": "stdout",
     "output_type": "stream",
     "text": [
      "Data:\n",
      "      Outlook Temperature Humidity    Wind Decision\n",
      "0      Sunny         Hot     High    Weak       No\n",
      "1      Sunny         Hot     High  Strong       No\n",
      "2   Overcast         Hot     High    Weak      Yes\n",
      "3       Rain        Mild     High    Weak      Yes\n",
      "4       Rain        Cold   Normal    Weak      Yes\n",
      "5       Rain        Cold   Normal  Strong       No\n",
      "6   Overcast        Cold   Normal  Strong      Yes\n",
      "7      Sunny        Mild     High    Weak       No\n",
      "8      Sunny        Cold   Normal    Weak      Yes\n",
      "9       Rain        Mild   Normal    Weak      Yes\n",
      "10     Sunny        Mild   Normal  Strong      Yes\n",
      "11  Overcast        Mild     High  Strong      Yes\n",
      "12  Overcast         Hot   Normal    Weak      Yes\n",
      "13      Rain         Hot     High  Strong       No\n",
      "\n",
      "Gini Values for each attribute:\n",
      " {'Outlook': 0.34285714285714286, 'Temperature': 0.39285714285714285, 'Humidity': 0.36734693877551017, 'Wind': 0.42857142857142855}\n",
      "\n",
      "Selected attribute: Outlook\n"
     ]
    }
   ],
   "source": [
    "import pandas as pd\n",
    "data = pd.read_csv(\"cart_data.csv\")\n",
    "print(\"Data:\\n\", data)\n",
    "X = data.iloc[:, :-1]\n",
    "Y = data.iloc[:, -1]\n",
    "main_dict = {}\n",
    "for i in X:\n",
    "    dictionary = {}\n",
    "    for j in range(len(X[i])):\n",
    "        if X[i][j] in dictionary:\n",
    "            if Y[j] in dictionary[X[i][j]]:\n",
    "                dictionary[X[i][j]][Y[j]] += 1\n",
    "            else:\n",
    "                dictionary[X[i][j]][Y[j]] = 1\n",
    "        else:\n",
    "            dictionary[X[i][j]] = {Y[j]: 1}\n",
    "        if 'Total_Sum' in dictionary[X[i][j]]:\n",
    "            dictionary[X[i][j]]['Total_Sum'] += 1\n",
    "        else:\n",
    "            dictionary[X[i][j]]['Total_Sum'] = 1\n",
    "    main_dict[i] = dictionary\n",
    "res_dict = {}\n",
    "for i in main_dict:\n",
    "    res_dict[i] = {}\n",
    "    for j in main_dict[i]:\n",
    "        sum_sq = main_dict[i][j][\"Total_Sum\"]**2\n",
    "        for k in main_dict[i][j]:\n",
    "            if k != \"Total_Sum\":\n",
    "                sum_sq-=main_dict[i][j][k]**2\n",
    "        res_dict[i][j] = sum_sq/main_dict[i][j][\"Total_Sum\"]**2\n",
    "final_dict = {}\n",
    "for i in res_dict:\n",
    "    sum_round = 0\n",
    "    avg = 0\n",
    "    for j in res_dict[i]:\n",
    "        avg += res_dict[i][j]*main_dict[i][j][\"Total_Sum\"]\n",
    "        sum_round += main_dict[i][j][\"Total_Sum\"]\n",
    "    final_dict[i] = avg/sum_round\n",
    "    \n",
    "print(\"\\nGini Values for each attribute:\\n\", final_dict)\n",
    "selected_atr_weight=1\n",
    "for i in final_dict:\n",
    "    if final_dict[i] < selected_atr_weight:\n",
    "        selected_atr = i\n",
    "        selected_atr_weight = final_dict[i]\n",
    "\n",
    "print(f\"\\nSelected attribute: {selected_atr}\")"
   ]
  }
 ],
 "metadata": {
  "interpreter": {
   "hash": "8ba5783f7328a9764c1f09b28a66ed051e3920f7ae0723d268d57d8ccbed721a"
  },
  "kernelspec": {
   "display_name": "Python 3.10.4 64-bit",
   "language": "python",
   "name": "python3"
  },
  "language_info": {
   "codemirror_mode": {
    "name": "ipython",
    "version": 3
   },
   "file_extension": ".py",
   "mimetype": "text/x-python",
   "name": "python",
   "nbconvert_exporter": "python",
   "pygments_lexer": "ipython3",
   "version": "3.10.4"
  },
  "orig_nbformat": 4
 },
 "nbformat": 4,
 "nbformat_minor": 2
}
