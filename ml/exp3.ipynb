{
 "cells": [
  {
   "cell_type": "code",
   "execution_count": 1,
   "metadata": {},
   "outputs": [],
   "source": [
    "from sklearn.datasets import load_iris\n",
    "import numpy as np\n",
    "import pandas as pd\n",
    "iris = load_iris()"
   ]
  },
  {
   "cell_type": "code",
   "execution_count": 2,
   "metadata": {},
   "outputs": [
    {
     "name": "stdout",
     "output_type": "stream",
     "text": [
      "   sepal length (cm)  sepal width (cm)  petal length (cm)  petal width (cm)\n",
      "0                5.1               3.5                1.4               0.2\n",
      "1                4.9               3.0                1.4               0.2\n",
      "2                4.7               3.2                1.3               0.2\n",
      "3                4.6               3.1                1.5               0.2\n",
      "4                5.0               3.6                1.4               0.2 0    0.0\n",
      "1    0.0\n",
      "2    0.0\n",
      "3    0.0\n",
      "4    0.0\n",
      "Name: target, dtype: float64\n"
     ]
    }
   ],
   "source": [
    "data = pd.DataFrame(data= np.c_[iris['data'], iris['target']], columns= iris['feature_names'] + ['target'])\n",
    "X_train, y_train = data.iloc[:-1, :-1], data.iloc[:-1, -1]\n",
    "X_test, y_test = data.iloc[-1, :-1], data.iloc[-1, -1]\n",
    "print(X_train.head(), y_train.head())"
   ]
  },
  {
   "cell_type": "code",
   "execution_count": 5,
   "metadata": {},
   "outputs": [
    {
     "ename": "TypeError",
     "evalue": "'list' object is not callable",
     "output_type": "error",
     "traceback": [
      "\u001b[1;31m---------------------------------------------------------------------------\u001b[0m",
      "\u001b[1;31mTypeError\u001b[0m                                 Traceback (most recent call last)",
      "\u001b[1;32md:\\college\\sem 6\\ml\\exp3.ipynb Cell 3'\u001b[0m in \u001b[0;36m<cell line: 6>\u001b[1;34m()\u001b[0m\n\u001b[0;32m      <a href='vscode-notebook-cell:/d%3A/college/sem%206/ml/exp3.ipynb#ch0000002?line=5'>6</a>\u001b[0m \u001b[39mfor\u001b[39;00m ind, i \u001b[39min\u001b[39;00m \u001b[39menumerate\u001b[39m(X_train):\n\u001b[0;32m      <a href='vscode-notebook-cell:/d%3A/college/sem%206/ml/exp3.ipynb#ch0000002?line=6'>7</a>\u001b[0m     \u001b[39mfor\u001b[39;00m j \u001b[39min\u001b[39;00m X_train[i]:\n\u001b[1;32m----> <a href='vscode-notebook-cell:/d%3A/college/sem%206/ml/exp3.ipynb#ch0000002?line=7'>8</a>\u001b[0m         dist_cols[i]\u001b[39m.\u001b[39mappend((point(ind)\u001b[39m-\u001b[39mj)\u001b[39m*\u001b[39m\u001b[39m*\u001b[39m\u001b[39m2\u001b[39m)\n\u001b[0;32m      <a href='vscode-notebook-cell:/d%3A/college/sem%206/ml/exp3.ipynb#ch0000002?line=8'>9</a>\u001b[0m         \u001b[39m# pass\u001b[39;00m\n\u001b[0;32m     <a href='vscode-notebook-cell:/d%3A/college/sem%206/ml/exp3.ipynb#ch0000002?line=9'>10</a>\u001b[0m \u001b[39mprint\u001b[39m(dist_cols)\n",
      "\u001b[1;31mTypeError\u001b[0m: 'list' object is not callable"
     ]
    }
   ],
   "source": [
    "point = [5.2, 3.8, 1.6, 0.2]\n",
    "dist_cols = {}\n",
    "for ind, i in enumerate(X_train):\n",
    "    dist_cols[i] = []\n",
    "\n",
    "for ind, i in enumerate(X_train):\n",
    "    for j in X_train[i]:\n",
    "        dist_cols[i].append((point(ind)-j)**2)\n",
    "        # pass\n",
    "print(dist_cols)"
   ]
  },
  {
   "cell_type": "code",
   "execution_count": null,
   "metadata": {},
   "outputs": [],
   "source": []
  }
 ],
 "metadata": {
  "interpreter": {
   "hash": "26c45dfba61ca19efd8a4de123ed543751f1bc2d856aeb726a9a5f8d70138a74"
  },
  "kernelspec": {
   "display_name": "Python 3.10.4 64-bit",
   "language": "python",
   "name": "python3"
  },
  "language_info": {
   "codemirror_mode": {
    "name": "ipython",
    "version": 3
   },
   "file_extension": ".py",
   "mimetype": "text/x-python",
   "name": "python",
   "nbconvert_exporter": "python",
   "pygments_lexer": "ipython3",
   "version": "3.10.4"
  },
  "orig_nbformat": 4
 },
 "nbformat": 4,
 "nbformat_minor": 2
}
