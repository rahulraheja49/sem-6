{
 "cells": [
  {
   "cell_type": "code",
   "execution_count": 2,
   "metadata": {},
   "outputs": [],
   "source": [
    "import numpy as np\n",
    "import matplotlib.pyplot as plt\n",
    "import pandas as pd"
   ]
  },
  {
   "cell_type": "code",
   "execution_count": 3,
   "metadata": {},
   "outputs": [
    {
     "name": "stdout",
     "output_type": "stream",
     "text": [
      "     Outlook Temperature Humidity    Wind Decision\n",
      "0      Sunny         Hot     High    Weak       No\n",
      "1      Sunny         Hot     High  Strong       No\n",
      "2   Overcast         Hot     High    Weak      Yes\n",
      "3       Rain        Mild     High    Weak      Yes\n",
      "4       Rain        Cold   Normal    Weak      Yes\n",
      "5       Rain        Cold   Normal  Strong       No\n",
      "6   Overcast        Cold   Normal  Strong      Yes\n",
      "7      Sunny        Mild     High    Weak       No\n",
      "8      Sunny        Cold   Normal    Weak      Yes\n",
      "9       Rain        Mild   Normal    Weak      Yes\n",
      "10     Sunny        Mild   Normal  Strong      Yes\n",
      "11  Overcast        Mild     High  Strong      Yes\n",
      "12  Overcast         Hot   Normal    Weak      Yes\n",
      "13      Rain         Hot     High  Strong       No\n"
     ]
    }
   ],
   "source": [
    "data = pd.read_csv(\"cart_data.csv\")\n",
    "print(data)"
   ]
  },
  {
   "cell_type": "code",
   "execution_count": 4,
   "metadata": {},
   "outputs": [],
   "source": [
    "X = data.iloc[:, :-1]\n",
    "Y = data.iloc[:, -1]"
   ]
  },
  {
   "cell_type": "code",
   "execution_count": 5,
   "metadata": {},
   "outputs": [],
   "source": [
    "main_dict = {}\n",
    "for i in X:\n",
    "    dictionary = {}\n",
    "    for j in range(len(X[i])):\n",
    "        if X[i][j] in dictionary:\n",
    "            if Y[j] in dictionary[X[i][j]]:\n",
    "                dictionary[X[i][j]][Y[j]] += 1\n",
    "            else:\n",
    "                dictionary[X[i][j]][Y[j]] = 1\n",
    "        else:\n",
    "            dictionary[X[i][j]] = {Y[j]: 1}\n",
    "        if 'Total_Sum' in dictionary[X[i][j]]:\n",
    "            dictionary[X[i][j]]['Total_Sum'] += 1\n",
    "        else:\n",
    "            dictionary[X[i][j]]['Total_Sum'] = 1\n",
    "    main_dict[i] = dictionary"
   ]
  },
  {
   "cell_type": "code",
   "execution_count": 6,
   "metadata": {},
   "outputs": [
    {
     "data": {
      "text/plain": [
       "{'Outlook': {'Sunny': {'No': 3, 'Total_Sum': 5, 'Yes': 2},\n",
       "  'Overcast': {'Yes': 4, 'Total_Sum': 4},\n",
       "  'Rain': {'Yes': 3, 'Total_Sum': 5, 'No': 2}},\n",
       " 'Temperature': {'Hot': {'No': 3, 'Total_Sum': 5, 'Yes': 2},\n",
       "  'Mild': {'Yes': 4, 'Total_Sum': 5, 'No': 1},\n",
       "  'Cold': {'Yes': 3, 'Total_Sum': 4, 'No': 1}},\n",
       " 'Humidity': {'High': {'No': 4, 'Total_Sum': 7, 'Yes': 3},\n",
       "  'Normal': {'Yes': 6, 'Total_Sum': 7, 'No': 1}},\n",
       " 'Wind': {'Weak': {'No': 2, 'Total_Sum': 8, 'Yes': 6},\n",
       "  'Strong': {'No': 3, 'Total_Sum': 6, 'Yes': 3}}}"
      ]
     },
     "execution_count": 6,
     "metadata": {},
     "output_type": "execute_result"
    }
   ],
   "source": [
    "main_dict"
   ]
  },
  {
   "cell_type": "code",
   "execution_count": 7,
   "metadata": {},
   "outputs": [],
   "source": [
    "res_dict = {}\n",
    "for i in main_dict:\n",
    "    res_dict[i] = {}\n",
    "    for j in main_dict[i]:\n",
    "        # sum_iter = 0\n",
    "        sum_sq = main_dict[i][j][\"Total_Sum\"]**2\n",
    "        for k in main_dict[i][j]:\n",
    "            # sum_iter+=main_dict[i][j][k]\n",
    "            if k != \"Total_Sum\":\n",
    "                sum_sq-=main_dict[i][j][k]**2\n",
    "        res_dict[i][j] = sum_sq/main_dict[i][j][\"Total_Sum\"]**2"
   ]
  },
  {
   "cell_type": "code",
   "execution_count": 8,
   "metadata": {},
   "outputs": [
    {
     "data": {
      "text/plain": [
       "{'Outlook': {'Sunny': 0.48, 'Overcast': 0.0, 'Rain': 0.48},\n",
       " 'Temperature': {'Hot': 0.48, 'Mild': 0.32, 'Cold': 0.375},\n",
       " 'Humidity': {'High': 0.4897959183673469, 'Normal': 0.24489795918367346},\n",
       " 'Wind': {'Weak': 0.375, 'Strong': 0.5}}"
      ]
     },
     "execution_count": 8,
     "metadata": {},
     "output_type": "execute_result"
    }
   ],
   "source": [
    "res_dict"
   ]
  },
  {
   "cell_type": "code",
   "execution_count": 10,
   "metadata": {},
   "outputs": [],
   "source": [
    "final_dict = {}\n",
    "for i in res_dict:\n",
    "    # print(main_dict[i])\n",
    "    sum_round = 0\n",
    "    avg = 0\n",
    "    for j in res_dict[i]:\n",
    "        # print(j)\n",
    "        avg += res_dict[i][j]*main_dict[i][j][\"Total_Sum\"]\n",
    "        sum_round += main_dict[i][j][\"Total_Sum\"]\n",
    "        # print(main_dict[i][j][\"Total_Sum\"])\n",
    "    final_dict[i] = avg/sum_round\n",
    "    "
   ]
  },
  {
   "cell_type": "code",
   "execution_count": 11,
   "metadata": {},
   "outputs": [
    {
     "name": "stdout",
     "output_type": "stream",
     "text": [
      "{'Outlook': 0.34285714285714286, 'Temperature': 0.39285714285714285, 'Humidity': 0.36734693877551017, 'Wind': 0.42857142857142855}\n"
     ]
    }
   ],
   "source": [
    "print(final_dict)"
   ]
  },
  {
   "cell_type": "code",
   "execution_count": 13,
   "metadata": {},
   "outputs": [
    {
     "name": "stdout",
     "output_type": "stream",
     "text": [
      "Outlook\n"
     ]
    }
   ],
   "source": [
    "selected_atr_weight=1\n",
    "for i in final_dict:\n",
    "    if final_dict[i] < selected_atr_weight:\n",
    "        selected_atr = i\n",
    "        selected_atr_weight = final_dict[i]\n",
    "\n",
    "print(selected_atr)"
   ]
  }
 ],
 "metadata": {
  "interpreter": {
   "hash": "26c45dfba61ca19efd8a4de123ed543751f1bc2d856aeb726a9a5f8d70138a74"
  },
  "kernelspec": {
   "display_name": "Python 3.10.4 64-bit",
   "language": "python",
   "name": "python3"
  },
  "language_info": {
   "codemirror_mode": {
    "name": "ipython",
    "version": 3
   },
   "file_extension": ".py",
   "mimetype": "text/x-python",
   "name": "python",
   "nbconvert_exporter": "python",
   "pygments_lexer": "ipython3",
   "version": "3.10.4"
  },
  "orig_nbformat": 4
 },
 "nbformat": 4,
 "nbformat_minor": 2
}
