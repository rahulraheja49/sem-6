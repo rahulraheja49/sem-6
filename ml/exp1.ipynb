{
 "cells": [
  {
   "cell_type": "markdown",
   "id": "e7936d77",
   "metadata": {},
   "source": [
    "# Linear Regression"
   ]
  },
  {
   "cell_type": "markdown",
   "id": "569f2735",
   "metadata": {},
   "source": [
    "## Standard"
   ]
  },
  {
   "cell_type": "code",
   "execution_count": 2,
   "id": "173661c4",
   "metadata": {},
   "outputs": [
    {
     "name": "stdout",
     "output_type": "stream",
     "text": [
      "Mean x: 3.0\n",
      "Mean y: 3.6\n",
      "m: 0.4\n",
      "c: 2.4\n"
     ]
    },
    {
     "data": {
      "image/png": "[encoded data removed]",
      "text/plain": [
       "<Figure size 432x288 with 1 Axes>"
      ]
     },
     "metadata": {
      "needs_background": "light"
     },
     "output_type": "display_data"
    },
    {
     "name": "stdout",
     "output_type": "stream",
     "text": [
      "R squared: 0.31\n"
     ]
    }
   ],
   "source": [
    "import numpy as np\n",
    "import matplotlib.pyplot as plt\n",
    "x = np.array([1, 2, 3, 4, 5])\n",
    "y = np.array([3, 4, 2, 4, 5])\n",
    "xbar = np.mean(x)\n",
    "ybar = np.mean(y)\n",
    "print(f\"Mean x: {xbar}\")\n",
    "print(f\"Mean y: {ybar}\")\n",
    "xminusxbar = []\n",
    "yminusybar = []\n",
    "prod = []\n",
    "sq = []\n",
    "for i in range(len(x)):\n",
    "    xminusxbar.append(x[i]-xbar)\n",
    "    yminusybar.append(y[i]-ybar)\n",
    "    prod.append(xminusxbar[i]*yminusybar[i])\n",
    "    sq.append(xminusxbar[i]**2)\n",
    "sumsq = np.sum(sq)\n",
    "sumprod = np.sum(prod)\n",
    "m = sumprod/sumsq\n",
    "c = ybar - m*xbar\n",
    "yp, diffypsq, diffysq = [], [], []\n",
    "for ind, i in enumerate(x):\n",
    "    yp.append(m*i+c)\n",
    "    diffypsq.append((yp[ind]-ybar)**2)\n",
    "    diffysq.append((y[ind]-ybar)**2)\n",
    "print(f\"m: {m}\")\n",
    "print(f\"c: {c}\")\n",
    "plt.plot(x, yp, marker=\"o\", label=\"Line of regression\")\n",
    "plt.plot(x, y, marker=\"X\", label=\"Actual Values\")\n",
    "plt.ylim(ymin=0)\n",
    "plt.legend()\n",
    "plt.show()\n",
    "Rsq = np.sum(diffypsq)/np.sum(diffysq)\n",
    "print(f\"R squared: {round(Rsq, 2)}\")"
   ]
  },
  {
   "cell_type": "markdown",
   "id": "e6ce3753",
   "metadata": {},
   "source": [
    "## Gradient Descent"
   ]
  },
  {
   "cell_type": "code",
   "execution_count": 5,
   "id": "7d098e69",
   "metadata": {},
   "outputs": [
    {
     "name": "stdout",
     "output_type": "stream",
     "text": [
      "m: 0.40000000000173436\n",
      "c: 2.3999999999936867\n"
     ]
    }
   ],
   "source": [
    "n = len(x)\n",
    "m1, c1 = 0, 0\n",
    "lr = 0.0001\n",
    "epochs = 1000000\n",
    "for i in range(epochs):\n",
    "    yp = m1*x + c1\n",
    "    thetam = (-2/n) * sum(x * (y-yp))\n",
    "    thetac = (-2/n) * sum(y-yp)\n",
    "    m1-=lr*thetam\n",
    "    c1-=lr*thetac\n",
    "print(f\"m: {m1}\")\n",
    "print(f\"c: {c1}\")"
   ]
  },
  {
   "cell_type": "code",
   "execution_count": null,
   "id": "9f59cae5",
   "metadata": {},
   "outputs": [],
   "source": []
  }
 ],
 "metadata": {
  "interpreter": {
   "hash": "8ba5783f7328a9764c1f09b28a66ed051e3920f7ae0723d268d57d8ccbed721a"
  },
  "kernelspec": {
   "display_name": "Python 3.10.4 64-bit",
   "language": "python",
   "name": "python3"
  },
  "language_info": {
   "codemirror_mode": {
    "name": "ipython",
    "version": 3
   },
   "file_extension": ".py",
   "mimetype": "text/x-python",
   "name": "python",
   "nbconvert_exporter": "python",
   "pygments_lexer": "ipython3",
   "version": "3.10.4"
  }
 },
 "nbformat": 4,
 "nbformat_minor": 5
}
