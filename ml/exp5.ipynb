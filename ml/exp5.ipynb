{
 "cells": [
  {
   "cell_type": "code",
   "execution_count": 8,
   "metadata": {},
   "outputs": [
    {
     "name": "stdout",
     "output_type": "stream",
     "text": [
      "Data:\n",
      "    sepal length (cm)  sepal width (cm)  petal length (cm)  petal width (cm)  \\\n",
      "0                5.1               3.5                1.4               0.2   \n",
      "1                4.9               3.0                1.4               0.2   \n",
      "2                4.7               3.2                1.3               0.2   \n",
      "3                4.6               3.1                1.5               0.2   \n",
      "4                5.0               3.6                1.4               0.2   \n",
      "\n",
      "   target  \n",
      "0     0.0  \n",
      "1     0.0  \n",
      "2     0.0  \n",
      "3     0.0  \n",
      "4     0.0  \n",
      "\n",
      "Predictions:\n",
      " ['k=1: 2.0', 'k=2: 2.0', 'k=3: 2.0', 'k=4: 2.0', 'k=5: 2.0', 'k=6: 2.0', 'k=7: 2.0', 'k=8: 2.0', 'k=9: 2.0', 'k=10: 2.0', 'k=11: 2.0', 'k=12: 2.0', 'k=13: 2.0', 'k=14: 2.0', 'k=15: 2.0', 'k=16: 2.0', 'k=17: 2.0', 'k=18: 2.0', 'k=19: 2.0', 'k=20: 2.0', 'k=21: 2.0', 'k=22: 2.0', 'k=23: 2.0', 'k=24: 2.0', 'k=25: 2.0', 'k=26: 2.0', 'k=27: 2.0', 'k=28: 2.0', 'k=29: 2.0', 'k=30: 2.0', 'k=31: 2.0', 'k=32: 2.0', 'k=33: 2.0', 'k=34: 2.0', 'k=35: 2.0', 'k=36: 2.0', 'k=37: 2.0', 'k=38: 2.0', 'k=39: 2.0', 'k=40: 2.0', 'k=41: 2.0', 'k=42: 2.0', 'k=43: 2.0', 'k=44: 2.0', 'k=45: 2.0', 'k=46: 2.0', 'k=47: 2.0', 'k=48: 2.0', 'k=49: 2.0', 'k=50: 2.0', 'k=51: 2.0', 'k=52: 2.0', 'k=53: 2.0', 'k=54: 2.0', 'k=55: 2.0', 'k=56: 2.0', 'k=57: 2.0', 'k=58: 2.0', 'k=59: 2.0', 'k=60: 2.0', 'k=61: 2.0', 'k=62: 2.0', 'k=63: 2.0', 'k=64: 2.0', 'k=65: 1.0', 'k=66: 2.0', 'k=67: 1.0', 'k=68: 2.0', 'k=69: 2.0', 'k=70: 2.0', 'k=71: 2.0', 'k=72: 2.0', 'k=73: 2.0', 'k=74: 2.0', 'k=75: 1.0', 'k=76: 1.0', 'k=77: 1.0', 'k=78: 1.0', 'k=79: 1.0', 'k=80: 1.0', 'k=81: 1.0', 'k=82: 1.0', 'k=83: 1.0', 'k=84: 1.0', 'k=85: 1.0', 'k=86: 1.0', 'k=87: 1.0', 'k=88: 1.0', 'k=89: 1.0', 'k=90: 1.0', 'k=91: 1.0', 'k=92: 1.0', 'k=93: 1.0', 'k=94: 1.0', 'k=95: 1.0', 'k=96: 1.0', 'k=97: 1.0', 'k=98: 1.0', 'k=99: 1.0']\n",
      "\n",
      "Expected:  2.0\n"
     ]
    }
   ],
   "source": [
    "from sklearn.datasets import load_iris\n",
    "import numpy as np\n",
    "import pandas as pd\n",
    "iris = load_iris()\n",
    "data = pd.DataFrame(data= np.c_[iris['data'], iris['target']], columns= iris['feature_names'] + ['target'])\n",
    "X_train, y_train = data.iloc[:-1, :-1], data.iloc[:-1, -1]\n",
    "X_test, y_test = data.iloc[-1, :-1], data.iloc[-1, -1]\n",
    "print(\"Data:\\n\", data.head())\n",
    "point = X_test\n",
    "dist_cols = {}\n",
    "for ind, i in enumerate(X_train):\n",
    "    dist_cols[i] = []\n",
    "\n",
    "for ind, i in enumerate(X_train):\n",
    "    for j in X_train[i]:\n",
    "        dist_cols[i].append((point[ind]-j)**2)\n",
    "rows, _ = X_train.shape\n",
    "sums = []\n",
    "for i in range(rows):\n",
    "    sum_row = 0\n",
    "    for j in dist_cols:\n",
    "        sum_row += dist_cols[j][i]\n",
    "    sums.append(sum_row)\n",
    "sc = sums.copy()\n",
    "ks = 100\n",
    "res = {}\n",
    "for k in range(1, ks):\n",
    "    sums = sc.copy()\n",
    "    ycp = y_train.copy().tolist()\n",
    "    ys = {}\n",
    "    for i in range(k):\n",
    "        ind = sums.index(min(sums))\n",
    "        sums.pop(ind)\n",
    "        y_pred = ycp.pop(ind)\n",
    "        if y_pred in ys:\n",
    "            ys[y_pred] += 1\n",
    "        else:\n",
    "            ys[y_pred] = 1\n",
    "    res[k] = ys\n",
    "predicted = []\n",
    "for i in res:\n",
    "    predicted.append(f\"k={i}: {max(res[i], key=lambda x: res[i][x])}\")\n",
    "print(\"\\nPredictions:\\n\", predicted)\n",
    "print(\"\\nExpected: \", y_test)"
   ]
  }
 ],
 "metadata": {
  "interpreter": {
   "hash": "8ba5783f7328a9764c1f09b28a66ed051e3920f7ae0723d268d57d8ccbed721a"
  },
  "kernelspec": {
   "display_name": "Python 3.10.4 64-bit",
   "language": "python",
   "name": "python3"
  },
  "language_info": {
   "codemirror_mode": {
    "name": "ipython",
    "version": 3
   },
   "file_extension": ".py",
   "mimetype": "text/x-python",
   "name": "python",
   "nbconvert_exporter": "python",
   "pygments_lexer": "ipython3",
   "version": "3.10.4"
  },
  "orig_nbformat": 4
 },
 "nbformat": 4,
 "nbformat_minor": 2
}
