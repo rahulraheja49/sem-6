{
 "cells": [
  {
   "cell_type": "code",
   "execution_count": 1,
   "id": "4533b4ad",
   "metadata": {},
   "outputs": [],
   "source": [
    "import findspark\n",
    "findspark.init()"
   ]
  },
  {
   "cell_type": "code",
   "execution_count": 2,
   "id": "df337cd3",
   "metadata": {},
   "outputs": [],
   "source": [
    "# import necessary packages\n",
    "from pyspark import SparkContext\n",
    "from pyspark.streaming import StreamingContext\n",
    "from pyspark.sql import SQLContext\n",
    "from pyspark.sql.functions import desc"
   ]
  },
  {
   "cell_type": "code",
   "execution_count": 3,
   "id": "9825b002",
   "metadata": {},
   "outputs": [
    {
     "name": "stderr",
     "output_type": "stream",
     "text": [
      "c:\\Users\\rrahe\\AppData\\Local\\Programs\\Python\\Python310\\lib\\site-packages\\pyspark\\sql\\context.py:77: FutureWarning: Deprecated in 3.0.0. Use SparkSession.builder.getOrCreate() instead.\n",
      "  warnings.warn(\n"
     ]
    }
   ],
   "source": [
    "sc = SparkContext()\n",
    "# we initiate the StreamingContext with 10 second batch interval. #next we initiate our sqlcontext\n",
    "ssc = StreamingContext(sc, 10)\n",
    "sqlContext = SQLContext(sc)"
   ]
  },
  {
   "cell_type": "code",
   "execution_count": 4,
   "id": "ec5a285b",
   "metadata": {},
   "outputs": [],
   "source": [
    "# initiate streaming text from a TCP (socket) source:\n",
    "socket_stream = ssc.socketTextStream(\"127.0.0.1\", 5555)\n",
    "# lines of tweets with socket_stream window of size 60, or 60 #seconds windows of time\n",
    "lines = socket_stream.window(60)"
   ]
  },
  {
   "cell_type": "code",
   "execution_count": 5,
   "id": "a0bf884e",
   "metadata": {},
   "outputs": [],
   "source": [
    "# just a tuple to assign names\n",
    "from collections import namedtuple\n",
    "fields = (\"hashtag\", \"count\" )\n",
    "Tweet = namedtuple( 'Tweet', fields )\n",
    "# here we apply different operations on the tweets and save them to #a temporary sql table\n",
    "( lines.flatMap( lambda text: text.split( \" \" ) ) #Splits to a list\n",
    "  # Checks for    hashtag calls  \n",
    "  .filter( lambda word: word.lower().startswith(\"#\") ) \n",
    "  .map( lambda word: ( word.lower(), 1 ) ) # Lower cases the word\n",
    "  .reduceByKey( lambda a, b: a + b ) \n",
    " # Stores in a Tweet Object\n",
    "  .map( lambda rec: Tweet( rec[0], rec[1] ) )\n",
    " # Sorts Them in a dataframe\n",
    "  .foreachRDD( lambda rdd: rdd.toDF().sort( desc(\"count\") )\n",
    " # Registers only top 10 hashtags to a table.\n",
    "  .limit(10).registerTempTable(\"tweets\") ) )"
   ]
  },
  {
   "cell_type": "code",
   "execution_count": 6,
   "id": "75825257",
   "metadata": {},
   "outputs": [
    {
     "name": "stderr",
     "output_type": "stream",
     "text": [
      "c:\\Users\\rrahe\\AppData\\Local\\Programs\\Python\\Python310\\lib\\site-packages\\pyspark\\sql\\dataframe.py:138: FutureWarning: Deprecated in 2.0, use createOrReplaceTempView instead.\n",
      "  warnings.warn(\n"
     ]
    }
   ],
   "source": [
    "# start streaming and wait couple of minutes to get enought tweets\n",
    "ssc.start()"
   ]
  },
  {
   "cell_type": "code",
   "execution_count": 7,
   "id": "ed2514c5",
   "metadata": {},
   "outputs": [
    {
     "name": "stderr",
     "output_type": "stream",
     "text": [
      "c:\\Users\\rrahe\\AppData\\Local\\Programs\\Python\\Python310\\lib\\site-packages\\pyspark\\sql\\dataframe.py:138: FutureWarning: Deprecated in 2.0, use createOrReplaceTempView instead.\n",
      "  warnings.warn(\n"
     ]
    },
    {
     "data": {
      "image/png": "[encoded data removed]",
      "text/plain": [
       "<Figure size 720x576 with 1 Axes>"
      ]
     },
     "metadata": {
      "needs_background": "light"
     },
     "output_type": "display_data"
    },
    {
     "name": "stdout",
     "output_type": "stream",
     "text": [
      "5\n"
     ]
    }
   ],
   "source": [
    "# import libraries to visualize the results\n",
    "import time\n",
    "from IPython import display\n",
    "import matplotlib.pyplot as plt\n",
    "import seaborn as sns\n",
    "get_ipython().run_line_magic('matplotlib', 'inline')\n",
    "count = 0\n",
    "while count < 5:\n",
    "    \n",
    "    time.sleep(5)\n",
    "    top_10_tags = sqlContext.sql( 'Select hashtag, count from tweets' )\n",
    "    top_10_df = top_10_tags.toPandas()\n",
    "    display.clear_output(wait=True)\n",
    "    plt.figure( figsize = ( 10, 8 ) )\n",
    "    sns.barplot( x=\"count\", y=\"hashtag\", data=top_10_df)\n",
    "    plt.show()\n",
    "    count = count + 1\n",
    "    print(count)"
   ]
  },
  {
   "cell_type": "code",
   "execution_count": 8,
   "id": "a2bb56eb",
   "metadata": {},
   "outputs": [],
   "source": [
    "# stop streaming and wait couple of minutes to get enought tweets\n",
    "ssc.stop()"
   ]
  },
  {
   "cell_type": "code",
   "execution_count": null,
   "id": "05ca3b9d",
   "metadata": {},
   "outputs": [],
   "source": []
  }
 ],
 "metadata": {
  "kernelspec": {
   "display_name": "Python 3.10.4 64-bit",
   "language": "python",
   "name": "python3"
  },
  "language_info": {
   "codemirror_mode": {
    "name": "ipython",
    "version": 3
   },
   "file_extension": ".py",
   "mimetype": "text/x-python",
   "name": "python",
   "nbconvert_exporter": "python",
   "pygments_lexer": "ipython3",
   "version": "3.10.4"
  },
  "vscode": {
   "interpreter": {
    "hash": "8ba5783f7328a9764c1f09b28a66ed051e3920f7ae0723d268d57d8ccbed721a"
   }
  }
 },
 "nbformat": 4,
 "nbformat_minor": 5
}
