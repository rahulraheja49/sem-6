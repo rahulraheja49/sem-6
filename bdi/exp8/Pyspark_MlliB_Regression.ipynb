{
  "cells": [
    {
      "cell_type": "code",
      "execution_count": null,
      "metadata": {
        "colab": {
          "base_uri": "https://localhost:8080/"
        },
        "id": "2hCI2TLE1rhY",
        "outputId": "3a12ce32-be19-4a85-aee6-aba3dc8c25e5"
      },
      "outputs": [
        {
          "name": "stdout",
          "output_type": "stream",
          "text": [
            "Requirement already satisfied: pyspark in /usr/local/lib/python3.7/dist-packages (3.2.1)\n",
            "Requirement already satisfied: py4j==0.10.9.3 in /usr/local/lib/python3.7/dist-packages (from pyspark) (0.10.9.3)\n"
          ]
        }
      ],
      "source": [
        "%pip install pyspark"
      ]
    },
    {
      "cell_type": "code",
      "execution_count": null,
      "metadata": {
        "id": "14IXQxT73y-y"
      },
      "outputs": [],
      "source": [
        "import pandas as pd"
      ]
    },
    {
      "cell_type": "code",
      "execution_count": null,
      "metadata": {
        "id": "I5zdKkPx11A0"
      },
      "outputs": [],
      "source": [
        "from pyspark import SparkConf, SparkContext\n",
        "from pyspark.sql import SQLContext\n",
        "Sc = SparkContext()"
      ]
    },
    {
      "cell_type": "code",
      "execution_count": null,
      "metadata": {
        "colab": {
          "base_uri": "https://localhost:8080/"
        },
        "id": "m373WMrf2MPG",
        "outputId": "942c6ba7-31e6-4ef4-f745-1e6a4789b4cd"
      },
      "outputs": [
        {
          "name": "stderr",
          "output_type": "stream",
          "text": [
            "/usr/local/lib/python3.7/dist-packages/pyspark/sql/context.py:79: FutureWarning: Deprecated in 3.0.0. Use SparkSession.builder.getOrCreate() instead.\n",
            "  FutureWarning\n"
          ]
        }
      ],
      "source": [
        "sqlContext = SQLContext(Sc)"
      ]
    },
    {
      "cell_type": "code",
      "execution_count": null,
      "metadata": {
        "colab": {
          "base_uri": "https://localhost:8080/"
        },
        "id": "OLoN4CpQ13ds",
        "outputId": "12cadb29-85c1-42f6-e9ed-14c6459b4a39"
      },
      "outputs": [
        {
          "data": {
            "text/plain": [
              "[Row(id=9046, gender='Male', age=67.0, hypertension=0, heart_disease=1, ever_married='Yes', work_type='Private', Residence_type='Urban', avg_glucose_level=228.69, bmi='36.6', smoking_status='formerly smoked', stroke=1)]"
            ]
          },
          "execution_count": 5,
          "metadata": {},
          "output_type": "execute_result"
        }
      ],
      "source": [
        "df = sqlContext.read.format('com.databricks.spark.csv').options(header='true', inferschema='true').load('healthcare-dataset-stroke-data.csv')\n",
        "df.take(1)"
      ]
    },
    {
      "cell_type": "code",
      "execution_count": null,
      "metadata": {
        "colab": {
          "base_uri": "https://localhost:8080/"
        },
        "id": "yVL9dFgj7SMG",
        "outputId": "2474dfe3-06fc-49df-c902-55122d29680e"
      },
      "outputs": [
        {
          "name": "stdout",
          "output_type": "stream",
          "text": [
            "         id  gender   age  hypertension  heart_disease ever_married  \\\n",
            "0      9046    Male  67.0             0              1          Yes   \n",
            "1     51676  Female  61.0             0              0          Yes   \n",
            "2     31112    Male  80.0             0              1          Yes   \n",
            "3     60182  Female  49.0             0              0          Yes   \n",
            "4      1665  Female  79.0             1              0          Yes   \n",
            "...     ...     ...   ...           ...            ...          ...   \n",
            "5105  18234  Female  80.0             1              0          Yes   \n",
            "5106  44873  Female  81.0             0              0          Yes   \n",
            "5107  19723  Female  35.0             0              0          Yes   \n",
            "5108  37544    Male  51.0             0              0          Yes   \n",
            "5109  44679  Female  44.0             0              0          Yes   \n",
            "\n",
            "          work_type Residence_type  avg_glucose_level   bmi   smoking_status  \\\n",
            "0           Private          Urban             228.69  36.6  formerly smoked   \n",
            "1     Self-employed          Rural             202.21   N/A     never smoked   \n",
            "2           Private          Rural             105.92  32.5     never smoked   \n",
            "3           Private          Urban             171.23  34.4           smokes   \n",
            "4     Self-employed          Rural             174.12    24     never smoked   \n",
            "...             ...            ...                ...   ...              ...   \n",
            "5105        Private          Urban              83.75   N/A     never smoked   \n",
            "5106  Self-employed          Urban             125.20    40     never smoked   \n",
            "5107  Self-employed          Rural              82.99  30.6     never smoked   \n",
            "5108        Private          Rural             166.29  25.6  formerly smoked   \n",
            "5109       Govt_job          Urban              85.28  26.2          Unknown   \n",
            "\n",
            "      stroke  \n",
            "0          1  \n",
            "1          1  \n",
            "2          1  \n",
            "3          1  \n",
            "4          1  \n",
            "...      ...  \n",
            "5105       0  \n",
            "5106       0  \n",
            "5107       0  \n",
            "5108       0  \n",
            "5109       0  \n",
            "\n",
            "[5110 rows x 12 columns]\n"
          ]
        }
      ],
      "source": [
        "pd_df = df.toPandas()\n",
        "print(pd_df)"
      ]
    },
    {
      "cell_type": "code",
      "execution_count": null,
      "metadata": {
        "colab": {
          "base_uri": "https://localhost:8080/"
        },
        "id": "e3SAQiJ664ou",
        "outputId": "383b3fbb-7c22-4948-d4f8-9869a3c95f2c"
      },
      "outputs": [
        {
          "data": {
            "text/plain": [
              "id                     int32\n",
              "gender                object\n",
              "age                  float64\n",
              "hypertension           int32\n",
              "heart_disease          int32\n",
              "ever_married          object\n",
              "work_type             object\n",
              "Residence_type        object\n",
              "avg_glucose_level    float64\n",
              "bmi                   object\n",
              "smoking_status        object\n",
              "stroke                 int32\n",
              "dtype: object"
            ]
          },
          "execution_count": 7,
          "metadata": {},
          "output_type": "execute_result"
        }
      ],
      "source": [
        "pd_df.dtypes"
      ]
    },
    {
      "cell_type": "code",
      "execution_count": null,
      "metadata": {
        "colab": {
          "base_uri": "https://localhost:8080/"
        },
        "id": "oHFqd23m2jFV",
        "outputId": "3be0c6aa-6020-4429-8992-44c2b6861e53"
      },
      "outputs": [
        {
          "name": "stdout",
          "output_type": "stream",
          "text": [
            "root\n",
            " |-- id: integer (nullable = true)\n",
            " |-- gender: string (nullable = true)\n",
            " |-- age: double (nullable = true)\n",
            " |-- hypertension: integer (nullable = true)\n",
            " |-- heart_disease: integer (nullable = true)\n",
            " |-- ever_married: string (nullable = true)\n",
            " |-- work_type: string (nullable = true)\n",
            " |-- Residence_type: string (nullable = true)\n",
            " |-- avg_glucose_level: double (nullable = true)\n",
            " |-- bmi: string (nullable = true)\n",
            " |-- smoking_status: string (nullable = true)\n",
            " |-- stroke: integer (nullable = true)\n",
            "\n"
          ]
        }
      ],
      "source": [
        "df.cache()\n",
        "df.printSchema()"
      ]
    },
    {
      "cell_type": "code",
      "execution_count": null,
      "metadata": {
        "colab": {
          "base_uri": "https://localhost:8080/",
          "height": 457
        },
        "id": "7ihh_a5q2l8b",
        "outputId": "4a5a60ed-8ac4-44e2-b1d8-4bd6e0950693"
      },
      "outputs": [
        {
          "data": {
            "text/html": [
              "\n",
              "  <div id=\"df-74bac1e4-5cd2-4d38-97db-a977e1b930e4\">\n",
              "    <div class=\"colab-df-container\">\n",
              "      <div>\n",
              "<style scoped>\n",
              "    .dataframe tbody tr th:only-of-type {\n",
              "        vertical-align: middle;\n",
              "    }\n",
              "\n",
              "    .dataframe tbody tr th {\n",
              "        vertical-align: top;\n",
              "    }\n",
              "\n",
              "    .dataframe thead th {\n",
              "        text-align: right;\n",
              "    }\n",
              "</style>\n",
              "<table border=\"1\" class=\"dataframe\">\n",
              "  <thead>\n",
              "    <tr style=\"text-align: right;\">\n",
              "      <th></th>\n",
              "      <th>0</th>\n",
              "      <th>1</th>\n",
              "      <th>2</th>\n",
              "      <th>3</th>\n",
              "      <th>4</th>\n",
              "    </tr>\n",
              "  </thead>\n",
              "  <tbody>\n",
              "    <tr>\n",
              "      <th>summary</th>\n",
              "      <td>count</td>\n",
              "      <td>mean</td>\n",
              "      <td>stddev</td>\n",
              "      <td>min</td>\n",
              "      <td>max</td>\n",
              "    </tr>\n",
              "    <tr>\n",
              "      <th>id</th>\n",
              "      <td>5110</td>\n",
              "      <td>36517.82935420744</td>\n",
              "      <td>21161.72162482715</td>\n",
              "      <td>67</td>\n",
              "      <td>72940</td>\n",
              "    </tr>\n",
              "    <tr>\n",
              "      <th>gender</th>\n",
              "      <td>5110</td>\n",
              "      <td>None</td>\n",
              "      <td>None</td>\n",
              "      <td>Female</td>\n",
              "      <td>Other</td>\n",
              "    </tr>\n",
              "    <tr>\n",
              "      <th>age</th>\n",
              "      <td>5110</td>\n",
              "      <td>43.226614481409015</td>\n",
              "      <td>22.61264672311348</td>\n",
              "      <td>0.08</td>\n",
              "      <td>82.0</td>\n",
              "    </tr>\n",
              "    <tr>\n",
              "      <th>hypertension</th>\n",
              "      <td>5110</td>\n",
              "      <td>0.0974559686888454</td>\n",
              "      <td>0.296606674233791</td>\n",
              "      <td>0</td>\n",
              "      <td>1</td>\n",
              "    </tr>\n",
              "    <tr>\n",
              "      <th>heart_disease</th>\n",
              "      <td>5110</td>\n",
              "      <td>0.05401174168297456</td>\n",
              "      <td>0.22606298750336554</td>\n",
              "      <td>0</td>\n",
              "      <td>1</td>\n",
              "    </tr>\n",
              "    <tr>\n",
              "      <th>ever_married</th>\n",
              "      <td>5110</td>\n",
              "      <td>None</td>\n",
              "      <td>None</td>\n",
              "      <td>No</td>\n",
              "      <td>Yes</td>\n",
              "    </tr>\n",
              "    <tr>\n",
              "      <th>work_type</th>\n",
              "      <td>5110</td>\n",
              "      <td>None</td>\n",
              "      <td>None</td>\n",
              "      <td>Govt_job</td>\n",
              "      <td>children</td>\n",
              "    </tr>\n",
              "    <tr>\n",
              "      <th>Residence_type</th>\n",
              "      <td>5110</td>\n",
              "      <td>None</td>\n",
              "      <td>None</td>\n",
              "      <td>Rural</td>\n",
              "      <td>Urban</td>\n",
              "    </tr>\n",
              "    <tr>\n",
              "      <th>avg_glucose_level</th>\n",
              "      <td>5110</td>\n",
              "      <td>106.14767710371804</td>\n",
              "      <td>45.28356015058193</td>\n",
              "      <td>55.12</td>\n",
              "      <td>271.74</td>\n",
              "    </tr>\n",
              "    <tr>\n",
              "      <th>bmi</th>\n",
              "      <td>5110</td>\n",
              "      <td>28.893236911794673</td>\n",
              "      <td>7.85406672968016</td>\n",
              "      <td>10.3</td>\n",
              "      <td>N/A</td>\n",
              "    </tr>\n",
              "    <tr>\n",
              "      <th>smoking_status</th>\n",
              "      <td>5110</td>\n",
              "      <td>None</td>\n",
              "      <td>None</td>\n",
              "      <td>Unknown</td>\n",
              "      <td>smokes</td>\n",
              "    </tr>\n",
              "    <tr>\n",
              "      <th>stroke</th>\n",
              "      <td>5110</td>\n",
              "      <td>0.0487279843444227</td>\n",
              "      <td>0.21531985698023753</td>\n",
              "      <td>0</td>\n",
              "      <td>1</td>\n",
              "    </tr>\n",
              "  </tbody>\n",
              "</table>\n",
              "</div>\n",
              "      <button class=\"colab-df-convert\" onclick=\"convertToInteractive('df-74bac1e4-5cd2-4d38-97db-a977e1b930e4')\"\n",
              "              title=\"Convert this dataframe to an interactive table.\"\n",
              "              style=\"display:none;\">\n",
              "        \n",
              "  <svg xmlns=\"http://www.w3.org/2000/svg\" height=\"24px\"viewBox=\"0 0 24 24\"\n",
              "       width=\"24px\">\n",
              "    <path d=\"M0 0h24v24H0V0z\" fill=\"none\"/>\n",
              "    <path d=\"M18.56 5.44l.94 2.06.94-2.06 2.06-.94-2.06-.94-.94-2.06-.94 2.06-2.06.94zm-11 1L8.5 8.5l.94-2.06 2.06-.94-2.06-.94L8.5 2.5l-.94 2.06-2.06.94zm10 10l.94 2.06.94-2.06 2.06-.94-2.06-.94-.94-2.06-.94 2.06-2.06.94z\"/><path d=\"M17.41 7.96l-1.37-1.37c-.4-.4-.92-.59-1.43-.59-.52 0-1.04.2-1.43.59L10.3 9.45l-7.72 7.72c-.78.78-.78 2.05 0 2.83L4 21.41c.39.39.9.59 1.41.59.51 0 1.02-.2 1.41-.59l7.78-7.78 2.81-2.81c.8-.78.8-2.07 0-2.86zM5.41 20L4 18.59l7.72-7.72 1.47 1.35L5.41 20z\"/>\n",
              "  </svg>\n",
              "      </button>\n",
              "      \n",
              "  <style>\n",
              "    .colab-df-container {\n",
              "      display:flex;\n",
              "      flex-wrap:wrap;\n",
              "      gap: 12px;\n",
              "    }\n",
              "\n",
              "    .colab-df-convert {\n",
              "      background-color: #E8F0FE;\n",
              "      border: none;\n",
              "      border-radius: 50%;\n",
              "      cursor: pointer;\n",
              "      display: none;\n",
              "      fill: #1967D2;\n",
              "      height: 32px;\n",
              "      padding: 0 0 0 0;\n",
              "      width: 32px;\n",
              "    }\n",
              "\n",
              "    .colab-df-convert:hover {\n",
              "      background-color: #E2EBFA;\n",
              "      box-shadow: 0px 1px 2px rgba(60, 64, 67, 0.3), 0px 1px 3px 1px rgba(60, 64, 67, 0.15);\n",
              "      fill: #174EA6;\n",
              "    }\n",
              "\n",
              "    [theme=dark] .colab-df-convert {\n",
              "      background-color: #3B4455;\n",
              "      fill: #D2E3FC;\n",
              "    }\n",
              "\n",
              "    [theme=dark] .colab-df-convert:hover {\n",
              "      background-color: #434B5C;\n",
              "      box-shadow: 0px 1px 3px 1px rgba(0, 0, 0, 0.15);\n",
              "      filter: drop-shadow(0px 1px 2px rgba(0, 0, 0, 0.3));\n",
              "      fill: #FFFFFF;\n",
              "    }\n",
              "  </style>\n",
              "\n",
              "      <script>\n",
              "        const buttonEl =\n",
              "          document.querySelector('#df-74bac1e4-5cd2-4d38-97db-a977e1b930e4 button.colab-df-convert');\n",
              "        buttonEl.style.display =\n",
              "          google.colab.kernel.accessAllowed ? 'block' : 'none';\n",
              "\n",
              "        async function convertToInteractive(key) {\n",
              "          const element = document.querySelector('#df-74bac1e4-5cd2-4d38-97db-a977e1b930e4');\n",
              "          const dataTable =\n",
              "            await google.colab.kernel.invokeFunction('convertToInteractive',\n",
              "                                                     [key], {});\n",
              "          if (!dataTable) return;\n",
              "\n",
              "          const docLinkHtml = 'Like what you see? Visit the ' +\n",
              "            '<a target=\"_blank\" href=https://colab.research.google.com/notebooks/data_table.ipynb>data table notebook</a>'\n",
              "            + ' to learn more about interactive tables.';\n",
              "          element.innerHTML = '';\n",
              "          dataTable['output_type'] = 'display_data';\n",
              "          await google.colab.output.renderOutput(dataTable, element);\n",
              "          const docLink = document.createElement('div');\n",
              "          docLink.innerHTML = docLinkHtml;\n",
              "          element.appendChild(docLink);\n",
              "        }\n",
              "      </script>\n",
              "    </div>\n",
              "  </div>\n",
              "  "
            ],
            "text/plain": [
              "                       0                    1                    2         3  \\\n",
              "summary            count                 mean               stddev       min   \n",
              "id                  5110    36517.82935420744    21161.72162482715        67   \n",
              "gender              5110                 None                 None    Female   \n",
              "age                 5110   43.226614481409015    22.61264672311348      0.08   \n",
              "hypertension        5110   0.0974559686888454    0.296606674233791         0   \n",
              "heart_disease       5110  0.05401174168297456  0.22606298750336554         0   \n",
              "ever_married        5110                 None                 None        No   \n",
              "work_type           5110                 None                 None  Govt_job   \n",
              "Residence_type      5110                 None                 None     Rural   \n",
              "avg_glucose_level   5110   106.14767710371804    45.28356015058193     55.12   \n",
              "bmi                 5110   28.893236911794673     7.85406672968016      10.3   \n",
              "smoking_status      5110                 None                 None   Unknown   \n",
              "stroke              5110   0.0487279843444227  0.21531985698023753         0   \n",
              "\n",
              "                          4  \n",
              "summary                 max  \n",
              "id                    72940  \n",
              "gender                Other  \n",
              "age                    82.0  \n",
              "hypertension              1  \n",
              "heart_disease             1  \n",
              "ever_married            Yes  \n",
              "work_type          children  \n",
              "Residence_type        Urban  \n",
              "avg_glucose_level    271.74  \n",
              "bmi                     N/A  \n",
              "smoking_status       smokes  \n",
              "stroke                    1  "
            ]
          },
          "execution_count": 9,
          "metadata": {},
          "output_type": "execute_result"
        }
      ],
      "source": [
        "df.describe().toPandas().transpose()"
      ]
    },
    {
      "cell_type": "code",
      "execution_count": null,
      "metadata": {
        "colab": {
          "base_uri": "https://localhost:8080/"
        },
        "id": "fWGpmhXF6prg",
        "outputId": "4a18e453-842b-432c-f997-5dfd4a27d755"
      },
      "outputs": [
        {
          "data": {
            "text/plain": [
              "Row(id=9046, gender='Male', age=67.0, hypertension=0, heart_disease=1, ever_married='Yes', work_type='Private', Residence_type='Urban', avg_glucose_level=228.69, bmi='36.6', smoking_status='formerly smoked', stroke=1)"
            ]
          },
          "execution_count": 10,
          "metadata": {},
          "output_type": "execute_result"
        }
      ],
      "source": [
        "df.head()"
      ]
    },
    {
      "cell_type": "code",
      "execution_count": null,
      "metadata": {
        "colab": {
          "base_uri": "https://localhost:8080/"
        },
        "id": "eECruw953hVF",
        "outputId": "a06e788b-a387-4001-c20d-af539e256ea6"
      },
      "outputs": [
        {
          "data": {
            "text/plain": [
              "[('id', 'int'),\n",
              " ('gender', 'string'),\n",
              " ('age', 'double'),\n",
              " ('hypertension', 'int'),\n",
              " ('heart_disease', 'int'),\n",
              " ('ever_married', 'string'),\n",
              " ('work_type', 'string'),\n",
              " ('Residence_type', 'string'),\n",
              " ('avg_glucose_level', 'double'),\n",
              " ('bmi', 'string'),\n",
              " ('smoking_status', 'string'),\n",
              " ('stroke', 'int')]"
            ]
          },
          "execution_count": 11,
          "metadata": {},
          "output_type": "execute_result"
        }
      ],
      "source": [
        "df.dtypes"
      ]
    },
    {
      "cell_type": "code",
      "execution_count": null,
      "metadata": {
        "colab": {
          "base_uri": "https://localhost:8080/"
        },
        "id": "2uL-ZEtK2qJu",
        "outputId": "f497b8be-162c-47a0-9025-c9d64e1f212c"
      },
      "outputs": [
        {
          "name": "stdout",
          "output_type": "stream",
          "text": [
            "DataFrame[id: int, gender: string, age: double, hypertension: int, heart_disease: int, ever_married: string, work_type: string, Residence_type: string, avg_glucose_level: double, bmi: string, smoking_status: string, stroke: int, features: vector]\n",
            "+--------------------+------+\n",
            "|            features|stroke|\n",
            "+--------------------+------+\n",
            "|[67.0,228.69,0.0,...|     1|\n",
            "|[61.0,202.21,0.0,...|     1|\n",
            "|[80.0,105.92,0.0,...|     1|\n",
            "+--------------------+------+\n",
            "only showing top 3 rows\n",
            "\n"
          ]
        }
      ],
      "source": [
        "from pyspark.ml.feature import VectorAssembler\n",
        "vectorAssembler = VectorAssembler(inputCols = ['age', 'avg_glucose_level', 'hypertension', 'heart_disease', 'stroke'], outputCol = 'features')\n",
        "tdf = vectorAssembler.transform(df)\n",
        "print(tdf)\n",
        "tdf = tdf.select(['features', 'stroke'])\n",
        "tdf.show(3)"
      ]
    },
    {
      "cell_type": "code",
      "execution_count": null,
      "metadata": {
        "id": "_Jh7sdR-41VD"
      },
      "outputs": [],
      "source": [
        "splits = tdf.randomSplit([0.7, 0.3])\n",
        "train_df = splits[0]\n",
        "test_df = splits[1]"
      ]
    },
    {
      "cell_type": "code",
      "execution_count": null,
      "metadata": {
        "colab": {
          "base_uri": "https://localhost:8080/"
        },
        "id": "c_lGS-EK459R",
        "outputId": "e5fc29cc-f389-4e0d-aa5f-7230d1752d04"
      },
      "outputs": [
        {
          "name": "stdout",
          "output_type": "stream",
          "text": [
            "Coefficients: [0.0,0.0,0.0,0.0,0.0]\n",
            "Intercept: 0.04802021903959562\n"
          ]
        }
      ],
      "source": [
        "from pyspark.ml.regression import LinearRegression\n",
        "\n",
        "lr = LinearRegression(featuresCol = 'features', labelCol='stroke', maxIter=10, regParam=0.3, elasticNetParam=0.8)\n",
        "lr_model = lr.fit(train_df)\n",
        "print(\"Coefficients: \" + str(lr_model.coefficients))\n",
        "print(\"Intercept: \" + str(lr_model.intercept))"
      ]
    },
    {
      "cell_type": "code",
      "execution_count": null,
      "metadata": {
        "colab": {
          "base_uri": "https://localhost:8080/"
        },
        "id": "glysnBZy-kdz",
        "outputId": "bf746777-7bb8-4b3a-d2a8-207eacdb4ea3"
      },
      "outputs": [
        {
          "name": "stdout",
          "output_type": "stream",
          "text": [
            "RMSE: 0.213809\n",
            "r2: -0.000000\n"
          ]
        }
      ],
      "source": [
        "trainingSummary = lr_model.summary\n",
        "print(\"RMSE: %f\" % trainingSummary.rootMeanSquaredError)\n",
        "print(\"r2: %f\" % trainingSummary.r2)"
      ]
    },
    {
      "cell_type": "markdown",
      "metadata": {
        "id": "zqe0Jjr9kz7f"
      },
      "source": [
        "Classification - https://colab.research.google.com/drive/1VKUg_-4zlgJpy1AhhDStx-q9oKkANPcC?usp=sharing\n"
      ]
    },
    {
      "cell_type": "code",
      "execution_count": null,
      "metadata": {
        "colab": {
          "base_uri": "https://localhost:8080/"
        },
        "id": "wpXNYuWroSuL",
        "outputId": "2a115b5b-3ff8-4c6e-a4ee-1e50612672c8"
      },
      "outputs": [
        {
          "name": "stdout",
          "output_type": "stream",
          "text": [
            "   sepal length (cm)  sepal width (cm)  petal length (cm)  petal width (cm)  \\\n",
            "0                5.1               3.5                1.4               0.2   \n",
            "1                4.9               3.0                1.4               0.2   \n",
            "2                4.7               3.2                1.3               0.2   \n",
            "3                4.6               3.1                1.5               0.2   \n",
            "4                5.0               3.6                1.4               0.2   \n",
            "\n",
            "   label  \n",
            "0      0  \n",
            "1      0  \n",
            "2      0  \n",
            "3      0  \n",
            "4      0  \n",
            "root\n",
            " |-- sepal length (cm): double (nullable = true)\n",
            " |-- sepal width (cm): double (nullable = true)\n",
            " |-- petal length (cm): double (nullable = true)\n",
            " |-- petal width (cm): double (nullable = true)\n",
            " |-- label: long (nullable = true)\n",
            "\n",
            "None\n",
            "+-----------------+-----+\n",
            "|         features|label|\n",
            "+-----------------+-----+\n",
            "|[5.1,3.5,1.4,0.2]|    0|\n",
            "|[4.9,3.0,1.4,0.2]|    0|\n",
            "|[4.7,3.2,1.3,0.2]|    0|\n",
            "+-----------------+-----+\n",
            "only showing top 3 rows\n",
            "\n",
            "+-----------------+-----+--------------+-------------+----------+\n",
            "|         features|label| rawPrediction|  probability|prediction|\n",
            "+-----------------+-----+--------------+-------------+----------+\n",
            "|[4.6,3.4,1.4,0.3]|    0|[42.0,0.0,0.0]|[1.0,0.0,0.0]|       0.0|\n",
            "|[4.9,3.0,1.4,0.2]|    0|[42.0,0.0,0.0]|[1.0,0.0,0.0]|       0.0|\n",
            "|[4.9,3.6,1.4,0.1]|    0|[42.0,0.0,0.0]|[1.0,0.0,0.0]|       0.0|\n",
            "+-----------------+-----+--------------+-------------+----------+\n",
            "only showing top 3 rows\n",
            "\n",
            "Prediction Accuracy:  0.9656750572082381\n",
            "Confusion Matrix:\n",
            "[[ 8  0  0]\n",
            " [ 0  9  0]\n",
            " [ 0  1 11]]\n"
          ]
        }
      ],
      "source": [
        "from pyspark import SparkContext\n",
        "from pyspark.sql import SQLContext\n",
        "from pyspark.ml.classification import DecisionTreeClassifier\n",
        "from pyspark.ml.evaluation import MulticlassClassificationEvaluator\n",
        "from pyspark.ml.feature import VectorAssembler\n",
        "from sklearn.metrics import confusion_matrix\n",
        "from sklearn.datasets import load_iris\n",
        "import pandas as pd\n",
        "\n",
        "\n",
        "iris = load_iris()\n",
        "df_iris = pd.DataFrame(iris.data, columns=iris.feature_names)\n",
        "df_iris['label'] = pd.Series(iris.target)\n",
        " \n",
        "print(df_iris.head())\n",
        "\n",
        "data = sqlContext.createDataFrame(df_iris)\n",
        "print(data.printSchema())\n",
        "\n",
        "features = iris.feature_names\n",
        "\n",
        "va = VectorAssembler(inputCols = features, outputCol='features')\n",
        "\n",
        "va_df = va.transform(data)\n",
        "va_df = va_df.select(['features', 'label'])\n",
        "va_df.show(3)\n",
        "\n",
        "(train, test) = va_df.randomSplit([0.8, 0.2])\n",
        "\n",
        "dtc = DecisionTreeClassifier(featuresCol=\"features\", labelCol=\"label\")\n",
        "dtc = dtc.fit(train)\n",
        "\n",
        "pred = dtc.transform(test)\n",
        "pred.show(3)\n",
        "\n",
        "evaluator=MulticlassClassificationEvaluator(predictionCol=\"prediction\")\n",
        "acc = evaluator.evaluate(pred)\n",
        "print(\"Prediction Accuracy: \", acc)\n",
        "\n",
        "y_pred=pred.select(\"prediction\").collect()\n",
        "y_orig=pred.select(\"label\").collect()\n",
        "\n",
        "cm = confusion_matrix(y_orig, y_pred)\n",
        "print(\"Confusion Matrix:\")\n",
        "print(cm)"
      ]
    }
  ],
  "metadata": {
    "colab": {
      "collapsed_sections": [],
      "name": "Pyspark-MlliB-Regression",
      "provenance": []
    },
    "kernelspec": {
      "display_name": "Python 3",
      "name": "python3"
    },
    "language_info": {
      "name": "python"
    }
  },
  "nbformat": 4,
  "nbformat_minor": 0
}
