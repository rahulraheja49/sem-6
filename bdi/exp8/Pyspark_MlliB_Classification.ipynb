{
  "cells": [
    {
      "cell_type": "code",
      "execution_count": null,
      "metadata": {
        "colab": {
          "base_uri": "https://localhost:8080/"
        },
        "id": "yjN6Gj8ijqQm",
        "outputId": "069908f2-5bd4-4bf9-e465-15e3e77f5cee"
      },
      "outputs": [
        {
          "name": "stdout",
          "output_type": "stream",
          "text": [
            "Requirement already satisfied: pyspark in /usr/local/lib/python3.7/dist-packages (3.2.1)\n",
            "Requirement already satisfied: py4j==0.10.9.3 in /usr/local/lib/python3.7/dist-packages (from pyspark) (0.10.9.3)\n"
          ]
        }
      ],
      "source": [
        "%pip install pyspark"
      ]
    },
    {
      "cell_type": "code",
      "execution_count": null,
      "metadata": {
        "colab": {
          "base_uri": "https://localhost:8080/"
        },
        "id": "04p_ndWnkFI9",
        "outputId": "f14cf9af-b34a-46b8-f3a4-e755a34a65b9"
      },
      "outputs": [
        {
          "name": "stderr",
          "output_type": "stream",
          "text": [
            "/usr/local/lib/python3.7/dist-packages/pyspark/sql/context.py:79: FutureWarning: Deprecated in 3.0.0. Use SparkSession.builder.getOrCreate() instead.\n",
            "  FutureWarning\n"
          ]
        }
      ],
      "source": [
        "from pyspark.context import SparkContext\n",
        "from pyspark.sql.session import SparkSession\n",
        "from pyspark.sql import SQLContext\n",
        "sc = SparkContext('local')\n",
        "spark = SparkSession(sc)\n",
        "sqlContext = SQLContext(sc)"
      ]
    },
    {
      "cell_type": "code",
      "execution_count": null,
      "metadata": {
        "colab": {
          "base_uri": "https://localhost:8080/"
        },
        "id": "SQxA9-U2n4kk",
        "outputId": "b05ae8b4-2c34-47c7-b93b-474ea4cd7bac"
      },
      "outputs": [
        {
          "data": {
            "text/plain": [
              "[Row(age=39, workclass=' State-gov', fnlwgt=77516, education=' Bachelors', education-num=13, marital-status=' Never-married', occupation=' Adm-clerical', relationship=' Not-in-family', race=' White', sex=' Male', capital-gain=2174, capital-loss=0, hours-per-week=40, native-country=' United-States', salary=' <=50K')]"
            ]
          },
          "execution_count": 3,
          "metadata": {},
          "output_type": "execute_result"
        }
      ],
      "source": [
        "df = sqlContext.read.format('com.databricks.spark.csv').options(header='true', inferschema='true').load('salary.csv')\n",
        "df.take(1)"
      ]
    },
    {
      "cell_type": "code",
      "execution_count": null,
      "metadata": {
        "colab": {
          "base_uri": "https://localhost:8080/"
        },
        "id": "F6c0gYD2otr8",
        "outputId": "4982e66f-03cf-4fa5-fb01-7f1a0118b966"
      },
      "outputs": [
        {
          "name": "stdout",
          "output_type": "stream",
          "text": [
            "root\n",
            " |-- age: integer (nullable = true)\n",
            " |-- workclass: string (nullable = true)\n",
            " |-- fnlwgt: integer (nullable = true)\n",
            " |-- education: string (nullable = true)\n",
            " |-- education-num: integer (nullable = true)\n",
            " |-- marital-status: string (nullable = true)\n",
            " |-- occupation: string (nullable = true)\n",
            " |-- relationship: string (nullable = true)\n",
            " |-- race: string (nullable = true)\n",
            " |-- sex: string (nullable = true)\n",
            " |-- capital-gain: integer (nullable = true)\n",
            " |-- capital-loss: integer (nullable = true)\n",
            " |-- hours-per-week: integer (nullable = true)\n",
            " |-- native-country: string (nullable = true)\n",
            " |-- salary: string (nullable = true)\n",
            "\n"
          ]
        }
      ],
      "source": [
        "df.cache()\n",
        "df.printSchema()"
      ]
    },
    {
      "cell_type": "code",
      "execution_count": null,
      "metadata": {
        "colab": {
          "base_uri": "https://localhost:8080/"
        },
        "id": "2pZMf9elpSfy",
        "outputId": "234e13dc-4a36-4ecc-d2cf-19f53ad25e4a"
      },
      "outputs": [
        {
          "data": {
            "text/plain": [
              "[('age', 'int'),\n",
              " ('workclass', 'string'),\n",
              " ('fnlwgt', 'int'),\n",
              " ('education', 'string'),\n",
              " ('education-num', 'int'),\n",
              " ('marital-status', 'string'),\n",
              " ('occupation', 'string'),\n",
              " ('relationship', 'string'),\n",
              " ('race', 'string'),\n",
              " ('sex', 'string'),\n",
              " ('capital-gain', 'int'),\n",
              " ('capital-loss', 'int'),\n",
              " ('hours-per-week', 'int'),\n",
              " ('native-country', 'string'),\n",
              " ('salary', 'string')]"
            ]
          },
          "execution_count": 5,
          "metadata": {},
          "output_type": "execute_result"
        }
      ],
      "source": [
        "df.dtypes"
      ]
    },
    {
      "cell_type": "code",
      "execution_count": null,
      "metadata": {
        "id": "uKhQ2Lhsp4Bq"
      },
      "outputs": [],
      "source": [
        "from pyspark.ml.feature import StringIndexer\n",
        "\n",
        "indexer0 = StringIndexer(inputCol=\"workclass\", outputCol=\"workclassEncoded\") \n",
        "indexed0 = indexer0.fit(df).transform(df) \n",
        "indexer1 = StringIndexer(inputCol=\"education\", outputCol=\"educationEncoded\") \n",
        "indexed1 = indexer1.fit(indexed0).transform(indexed0) \n",
        "indexer2 = StringIndexer(inputCol=\"occupation\", outputCol=\"occupationEncoded\") \n",
        "indexed2 = indexer2.fit(indexed1).transform(indexed1) \n",
        "indexer3 = StringIndexer(inputCol=\"sex\", outputCol=\"sexEncoded\") \n",
        "indexed3 = indexer3.fit(indexed2).transform(indexed2) \n",
        "indexer4 = StringIndexer(inputCol=\"native-country\", outputCol=\"countryEncoded\") \n",
        "indexed4 = indexer4.fit(indexed3).transform(indexed3) \n",
        "indexer5 = StringIndexer(inputCol=\"salary\", outputCol=\"salaryEncoded\") \n",
        "indexed5 = indexer5.fit(indexed4).transform(indexed4) "
      ]
    },
    {
      "cell_type": "code",
      "execution_count": null,
      "metadata": {
        "colab": {
          "base_uri": "https://localhost:8080/"
        },
        "id": "6bFes1rHqC9C",
        "outputId": "d6ace7c5-1edb-4c7f-fb12-0a8e77bcee97"
      },
      "outputs": [
        {
          "name": "stdout",
          "output_type": "stream",
          "text": [
            "+---+-----------------+------+-------------+-------------+--------------------+------------------+--------------+-------------------+-------+------------+------------+--------------+--------------+------+----------------+----------------+-----------------+----------+--------------+-------------+\n",
            "|age|        workclass|fnlwgt|    education|education-num|      marital-status|        occupation|  relationship|               race|    sex|capital-gain|capital-loss|hours-per-week|native-country|salary|workclassEncoded|educationEncoded|occupationEncoded|sexEncoded|countryEncoded|salaryEncoded|\n",
            "+---+-----------------+------+-------------+-------------+--------------------+------------------+--------------+-------------------+-------+------------+------------+--------------+--------------+------+----------------+----------------+-----------------+----------+--------------+-------------+\n",
            "| 39|        State-gov| 77516|    Bachelors|           13|       Never-married|      Adm-clerical| Not-in-family|              White|   Male|        2174|           0|            40| United-States| <=50K|             4.0|             2.0|              3.0|       0.0|           0.0|          0.0|\n",
            "| 50| Self-emp-not-inc| 83311|    Bachelors|           13|  Married-civ-spouse|   Exec-managerial|       Husband|              White|   Male|           0|           0|            13| United-States| <=50K|             1.0|             2.0|              2.0|       0.0|           0.0|          0.0|\n",
            "| 38|          Private|215646|      HS-grad|            9|            Divorced| Handlers-cleaners| Not-in-family|              White|   Male|           0|           0|            40| United-States| <=50K|             0.0|             0.0|              9.0|       0.0|           0.0|          0.0|\n",
            "| 53|          Private|234721|         11th|            7|  Married-civ-spouse| Handlers-cleaners|       Husband|              Black|   Male|           0|           0|            40| United-States| <=50K|             0.0|             5.0|              9.0|       0.0|           0.0|          0.0|\n",
            "| 28|          Private|338409|    Bachelors|           13|  Married-civ-spouse|    Prof-specialty|          Wife|              Black| Female|           0|           0|            40|          Cuba| <=50K|             0.0|             2.0|              0.0|       1.0|           9.0|          0.0|\n",
            "| 37|          Private|284582|      Masters|           14|  Married-civ-spouse|   Exec-managerial|          Wife|              White| Female|           0|           0|            40| United-States| <=50K|             0.0|             3.0|              2.0|       1.0|           0.0|          0.0|\n",
            "| 49|          Private|160187|          9th|            5| Married-spouse-a...|     Other-service| Not-in-family|              Black| Female|           0|           0|            16|       Jamaica| <=50K|             0.0|            10.0|              5.0|       1.0|          11.0|          0.0|\n",
            "| 52| Self-emp-not-inc|209642|      HS-grad|            9|  Married-civ-spouse|   Exec-managerial|       Husband|              White|   Male|           0|           0|            45| United-States|  >50K|             1.0|             0.0|              2.0|       0.0|           0.0|          1.0|\n",
            "| 31|          Private| 45781|      Masters|           14|       Never-married|    Prof-specialty| Not-in-family|              White| Female|       14084|           0|            50| United-States|  >50K|             0.0|             3.0|              0.0|       1.0|           0.0|          1.0|\n",
            "| 42|          Private|159449|    Bachelors|           13|  Married-civ-spouse|   Exec-managerial|       Husband|              White|   Male|        5178|           0|            40| United-States|  >50K|             0.0|             2.0|              2.0|       0.0|           0.0|          1.0|\n",
            "| 37|          Private|280464| Some-college|           10|  Married-civ-spouse|   Exec-managerial|       Husband|              Black|   Male|           0|           0|            80| United-States|  >50K|             0.0|             1.0|              2.0|       0.0|           0.0|          1.0|\n",
            "| 30|        State-gov|141297|    Bachelors|           13|  Married-civ-spouse|    Prof-specialty|       Husband| Asian-Pac-Islander|   Male|           0|           0|            40|         India|  >50K|             4.0|             2.0|              0.0|       0.0|           8.0|          1.0|\n",
            "| 23|          Private|122272|    Bachelors|           13|       Never-married|      Adm-clerical|     Own-child|              White| Female|           0|           0|            30| United-States| <=50K|             0.0|             2.0|              3.0|       1.0|           0.0|          0.0|\n",
            "| 32|          Private|205019|   Assoc-acdm|           12|       Never-married|             Sales| Not-in-family|              Black|   Male|           0|           0|            50| United-States| <=50K|             0.0|             6.0|              4.0|       0.0|           0.0|          0.0|\n",
            "| 40|          Private|121772|    Assoc-voc|           11|  Married-civ-spouse|      Craft-repair|       Husband| Asian-Pac-Islander|   Male|           0|           0|            40|             ?|  >50K|             0.0|             4.0|              1.0|       0.0|           2.0|          1.0|\n",
            "| 34|          Private|245487|      7th-8th|            4|  Married-civ-spouse|  Transport-moving|       Husband| Amer-Indian-Eskimo|   Male|           0|           0|            45|        Mexico| <=50K|             0.0|             8.0|              8.0|       0.0|           1.0|          0.0|\n",
            "| 25| Self-emp-not-inc|176756|      HS-grad|            9|       Never-married|   Farming-fishing|     Own-child|              White|   Male|           0|           0|            35| United-States| <=50K|             1.0|             0.0|             10.0|       0.0|           0.0|          0.0|\n",
            "| 32|          Private|186824|      HS-grad|            9|       Never-married| Machine-op-inspct|     Unmarried|              White|   Male|           0|           0|            40| United-States| <=50K|             0.0|             0.0|              6.0|       0.0|           0.0|          0.0|\n",
            "| 38|          Private| 28887|         11th|            7|  Married-civ-spouse|             Sales|       Husband|              White|   Male|           0|           0|            50| United-States| <=50K|             0.0|             5.0|              4.0|       0.0|           0.0|          0.0|\n",
            "| 43| Self-emp-not-inc|292175|      Masters|           14|            Divorced|   Exec-managerial|     Unmarried|              White| Female|           0|           0|            45| United-States|  >50K|             1.0|             3.0|              2.0|       1.0|           0.0|          1.0|\n",
            "+---+-----------------+------+-------------+-------------+--------------------+------------------+--------------+-------------------+-------+------------+------------+--------------+--------------+------+----------------+----------------+-----------------+----------+--------------+-------------+\n",
            "only showing top 20 rows\n",
            "\n"
          ]
        }
      ],
      "source": [
        "indexed5.show()"
      ]
    },
    {
      "cell_type": "code",
      "execution_count": null,
      "metadata": {
        "colab": {
          "base_uri": "https://localhost:8080/"
        },
        "id": "jkyGBVQfpYbC",
        "outputId": "887d0b95-519c-4ecc-c38e-5f54481c5dfe"
      },
      "outputs": [
        {
          "name": "stdout",
          "output_type": "stream",
          "text": [
            "DataFrame[age: int, workclass: string, fnlwgt: int, education: string, education-num: int, marital-status: string, occupation: string, relationship: string, race: string, sex: string, capital-gain: int, capital-loss: int, hours-per-week: int, native-country: string, salary: string, workclassEncoded: double, educationEncoded: double, occupationEncoded: double, sexEncoded: double, countryEncoded: double, salaryEncoded: double, features: vector]\n",
            "+--------------------+-------------+\n",
            "|            features|salaryEncoded|\n",
            "+--------------------+-------------+\n",
            "|[39.0,4.0,2.0,3.0...|          0.0|\n",
            "|[50.0,1.0,2.0,2.0...|          0.0|\n",
            "|(10,[0,3,6,8],[38...|          0.0|\n",
            "+--------------------+-------------+\n",
            "only showing top 3 rows\n",
            "\n"
          ]
        }
      ],
      "source": [
        "from pyspark.ml.feature import VectorAssembler\n",
        "vectorAssembler = VectorAssembler(inputCols = ['age', 'workclassEncoded', 'educationEncoded', 'occupationEncoded', 'sexEncoded', 'countryEncoded', 'education-num', 'capital-gain', 'hours-per-week', 'capital-loss'], outputCol = 'features')\n",
        "tdf = vectorAssembler.transform(indexed5)\n",
        "print(tdf)\n",
        "tdf = tdf.select(['features', 'salaryEncoded'])\n",
        "tdf.show(3)"
      ]
    },
    {
      "cell_type": "code",
      "execution_count": null,
      "metadata": {
        "colab": {
          "base_uri": "https://localhost:8080/"
        },
        "id": "_jPgCiIEtCkA",
        "outputId": "4129d91a-6838-4abc-cdc9-37bb995189e3"
      },
      "outputs": [
        {
          "name": "stdout",
          "output_type": "stream",
          "text": [
            "Training Dataset Count: 22828\n",
            "Test Dataset Count: 9733\n"
          ]
        }
      ],
      "source": [
        "train, test = tdf.randomSplit([0.7, 0.3], seed = 2018)\n",
        "print(\"Training Dataset Count: \" + str(train.count()))\n",
        "print(\"Test Dataset Count: \" + str(test.count()))"
      ]
    },
    {
      "cell_type": "code",
      "execution_count": null,
      "metadata": {
        "id": "Du4ttdw_s9li"
      },
      "outputs": [],
      "source": [
        "from pyspark.ml.classification import LogisticRegression\n",
        "from pyspark.ml.classification import LinearSVC\n",
        "lsvc = LinearSVC(featuresCol = 'features', labelCol = 'salaryEncoded', maxIter=10, regParam=0.1)\n",
        "lr = LogisticRegression(featuresCol = 'features', labelCol = 'salaryEncoded', maxIter=10)\n",
        "lsvcModel = lsvc.fit(train)\n",
        "lrModel = lr.fit(train)"
      ]
    },
    {
      "cell_type": "code",
      "execution_count": null,
      "metadata": {
        "colab": {
          "base_uri": "https://localhost:8080/"
        },
        "id": "4g275-gbtxci",
        "outputId": "3f76b61f-94e3-4897-c566-2a8e54d3325a"
      },
      "outputs": [
        {
          "name": "stdout",
          "output_type": "stream",
          "text": [
            "Coefficients: [0.009679140612290072,0.01342892012614891,0.02288921743340083,-0.02078106627747353,-0.2950315108516846,-0.00409190094569091,0.08860705973375242,6.137904532294593e-05,0.008667393334614108,0.0003678549301454241]\n",
            "Intercept: -2.5735276509983613\n"
          ]
        }
      ],
      "source": [
        "print(\"Coefficients: \" + str(lsvcModel.coefficients))\n",
        "print(\"Intercept: \" + str(lsvcModel.intercept))"
      ]
    },
    {
      "cell_type": "code",
      "execution_count": null,
      "metadata": {
        "colab": {
          "base_uri": "https://localhost:8080/",
          "height": 347
        },
        "id": "IMUaUhVptNHR",
        "outputId": "4969abb3-ee54-49ed-a125-3ba46b836dad"
      },
      "outputs": [
        {
          "name": "stderr",
          "output_type": "stream",
          "text": [
            "/usr/local/lib/python3.7/dist-packages/pyspark/sql/context.py:127: FutureWarning: Deprecated in 3.0.0. Use SparkSession.builder.getOrCreate() instead.\n",
            "  FutureWarning\n"
          ]
        },
        {
          "data": {
            "image/png": "[encoded data removed]",
            "text/plain": [
              "<Figure size 432x288 with 1 Axes>"
            ]
          },
          "metadata": {
            "needs_background": "light"
          },
          "output_type": "display_data"
        },
        {
          "name": "stdout",
          "output_type": "stream",
          "text": [
            "Training set areaUnderROC: 0.8475822185984571\n"
          ]
        }
      ],
      "source": [
        "import matplotlib.pyplot as plt\n",
        "trainingSummary = lrModel.summary\n",
        "roc = trainingSummary.roc.toPandas()\n",
        "plt.plot(roc['FPR'],roc['TPR'])\n",
        "plt.ylabel('False Positive Rate')\n",
        "plt.xlabel('True Positive Rate')\n",
        "plt.title('ROC Curve')\n",
        "plt.show()\n",
        "print('Training set areaUnderROC: ' + str(trainingSummary.areaUnderROC))"
      ]
    }
  ],
  "metadata": {
    "colab": {
      "name": "Pyspark-MlliB-Classification.ipynb",
      "provenance": []
    },
    "kernelspec": {
      "display_name": "Python 3",
      "name": "python3"
    },
    "language_info": {
      "name": "python"
    }
  },
  "nbformat": 4,
  "nbformat_minor": 0
}
